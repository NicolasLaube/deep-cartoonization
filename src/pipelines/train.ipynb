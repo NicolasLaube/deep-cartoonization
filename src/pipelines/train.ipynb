{
  "cells": [
    {
      "cell_type": "markdown",
      "metadata": {
        "id": "8cvs0fxyX4PI"
      },
      "source": [
        "## Train Cartoon GAN\n",
        "\n",
        "Jupyter notebook version of the ```src.networks.train.py``` file.\n",
        "This file contains all cells to train the model from scratch."
      ]
    },
    {
      "cell_type": "markdown",
      "metadata": {
        "id": "GPpvB55bX4PM"
      },
      "source": [
        "#### Configure drive (only if needed)"
      ]
    },
    {
      "cell_type": "code",
      "execution_count": 1,
      "metadata": {
        "colab": {
          "base_uri": "https://localhost:8080/"
        },
        "id": "MYoH_hM2X4PN",
        "outputId": "b45421c4-5dd4-493c-e764-026c09079337"
      },
      "outputs": [
        {
          "output_type": "stream",
          "name": "stdout",
          "text": [
            "Drive already mounted at /content/drive; to attempt to forcibly remount, call drive.mount(\"/content/drive\", force_remount=True).\n",
            "data  log_file_test.log  papers  requirements.txt  src\tweights\n",
            "Requirement already satisfied: nptyping==1.4.4 in /usr/local/lib/python3.7/dist-packages (from -r requirements.txt (line 1)) (1.4.4)\n",
            "Requirement already satisfied: numpy===1.21.3 in /usr/local/lib/python3.7/dist-packages (from -r requirements.txt (line 2)) (1.21.3)\n",
            "Requirement already satisfied: tqdm==4.62.3 in /usr/local/lib/python3.7/dist-packages (from -r requirements.txt (line 3)) (4.62.3)\n",
            "Requirement already satisfied: moviepy==1.0.3 in /usr/local/lib/python3.7/dist-packages (from -r requirements.txt (line 4)) (1.0.3)\n",
            "Requirement already satisfied: opencv-python==4.5.4.60 in /usr/local/lib/python3.7/dist-packages (from -r requirements.txt (line 5)) (4.5.4.60)\n",
            "Requirement already satisfied: pandas==1.3.5 in /usr/local/lib/python3.7/dist-packages (from -r requirements.txt (line 6)) (1.3.5)\n",
            "Requirement already satisfied: matplotlib==3.5.1 in /usr/local/lib/python3.7/dist-packages (from -r requirements.txt (line 7)) (3.5.1)\n",
            "Requirement already satisfied: typish>=1.7.0 in /usr/local/lib/python3.7/dist-packages (from nptyping==1.4.4->-r requirements.txt (line 1)) (1.9.3)\n",
            "Requirement already satisfied: imageio<3.0,>=2.5 in /usr/local/lib/python3.7/dist-packages (from moviepy==1.0.3->-r requirements.txt (line 4)) (2.13.5)\n",
            "Requirement already satisfied: requests<3.0,>=2.8.1 in /usr/local/lib/python3.7/dist-packages (from moviepy==1.0.3->-r requirements.txt (line 4)) (2.23.0)\n",
            "Requirement already satisfied: proglog<=1.0.0 in /usr/local/lib/python3.7/dist-packages (from moviepy==1.0.3->-r requirements.txt (line 4)) (0.1.9)\n",
            "Requirement already satisfied: decorator<5.0,>=4.0.2 in /usr/local/lib/python3.7/dist-packages (from moviepy==1.0.3->-r requirements.txt (line 4)) (4.4.2)\n",
            "Requirement already satisfied: imageio-ffmpeg>=0.2.0 in /usr/local/lib/python3.7/dist-packages (from moviepy==1.0.3->-r requirements.txt (line 4)) (0.4.5)\n",
            "Requirement already satisfied: pytz>=2017.3 in /usr/local/lib/python3.7/dist-packages (from pandas==1.3.5->-r requirements.txt (line 6)) (2018.9)\n",
            "Requirement already satisfied: python-dateutil>=2.7.3 in /usr/local/lib/python3.7/dist-packages (from pandas==1.3.5->-r requirements.txt (line 6)) (2.8.2)\n",
            "Requirement already satisfied: pyparsing>=2.2.1 in /usr/local/lib/python3.7/dist-packages (from matplotlib==3.5.1->-r requirements.txt (line 7)) (3.0.6)\n",
            "Requirement already satisfied: fonttools>=4.22.0 in /usr/local/lib/python3.7/dist-packages (from matplotlib==3.5.1->-r requirements.txt (line 7)) (4.28.5)\n",
            "Requirement already satisfied: kiwisolver>=1.0.1 in /usr/local/lib/python3.7/dist-packages (from matplotlib==3.5.1->-r requirements.txt (line 7)) (1.3.2)\n",
            "Requirement already satisfied: packaging>=20.0 in /usr/local/lib/python3.7/dist-packages (from matplotlib==3.5.1->-r requirements.txt (line 7)) (21.3)\n",
            "Requirement already satisfied: cycler>=0.10 in /usr/local/lib/python3.7/dist-packages (from matplotlib==3.5.1->-r requirements.txt (line 7)) (0.11.0)\n",
            "Requirement already satisfied: pillow>=6.2.0 in /usr/local/lib/python3.7/dist-packages (from matplotlib==3.5.1->-r requirements.txt (line 7)) (8.4.0)\n",
            "Requirement already satisfied: six>=1.5 in /usr/local/lib/python3.7/dist-packages (from python-dateutil>=2.7.3->pandas==1.3.5->-r requirements.txt (line 6)) (1.15.0)\n",
            "Requirement already satisfied: certifi>=2017.4.17 in /usr/local/lib/python3.7/dist-packages (from requests<3.0,>=2.8.1->moviepy==1.0.3->-r requirements.txt (line 4)) (2021.10.8)\n",
            "Requirement already satisfied: chardet<4,>=3.0.2 in /usr/local/lib/python3.7/dist-packages (from requests<3.0,>=2.8.1->moviepy==1.0.3->-r requirements.txt (line 4)) (3.0.4)\n",
            "Requirement already satisfied: urllib3!=1.25.0,!=1.25.1,<1.26,>=1.21.1 in /usr/local/lib/python3.7/dist-packages (from requests<3.0,>=2.8.1->moviepy==1.0.3->-r requirements.txt (line 4)) (1.24.3)\n",
            "Requirement already satisfied: idna<3,>=2.5 in /usr/local/lib/python3.7/dist-packages (from requests<3.0,>=2.8.1->moviepy==1.0.3->-r requirements.txt (line 4)) (2.10)\n"
          ]
        }
      ],
      "source": [
        "\n",
        "from google.colab import drive\n",
        "import os\n",
        "drive.mount(\"/content/drive\")\n",
        "\n",
        "PROJECT_DIRECTORY = \"drive/MyDrive/DeepL\"\n",
        "os.chdir(PROJECT_DIRECTORY)\n",
        "\n",
        "!ls\n",
        "!pip install -r requirements.txt"
      ]
    },
    {
      "cell_type": "code",
      "execution_count": 2,
      "metadata": {
        "colab": {
          "base_uri": "https://localhost:8080/"
        },
        "id": "sp3k5NT3X4PP",
        "outputId": "2a183da3-c26b-4bdb-af57-26c5f10618f8"
      },
      "outputs": [
        {
          "output_type": "stream",
          "name": "stdout",
          "text": [
            "True\n",
            "Tesla K80\n",
            "Sat Dec 25 19:19:00 2021       \n",
            "+-----------------------------------------------------------------------------+\n",
            "| NVIDIA-SMI 495.44       Driver Version: 460.32.03    CUDA Version: 11.2     |\n",
            "|-------------------------------+----------------------+----------------------+\n",
            "| GPU  Name        Persistence-M| Bus-Id        Disp.A | Volatile Uncorr. ECC |\n",
            "| Fan  Temp  Perf  Pwr:Usage/Cap|         Memory-Usage | GPU-Util  Compute M. |\n",
            "|                               |                      |               MIG M. |\n",
            "|===============================+======================+======================|\n",
            "|   0  Tesla K80           Off  | 00000000:00:04.0 Off |                    0 |\n",
            "| N/A   73C    P8    33W / 149W |      3MiB / 11441MiB |      0%      Default |\n",
            "|                               |                      |                  N/A |\n",
            "+-------------------------------+----------------------+----------------------+\n",
            "                                                                               \n",
            "+-----------------------------------------------------------------------------+\n",
            "| Processes:                                                                  |\n",
            "|  GPU   GI   CI        PID   Type   Process name                  GPU Memory |\n",
            "|        ID   ID                                                   Usage      |\n",
            "|=============================================================================|\n",
            "|  No running processes found                                                 |\n",
            "+-----------------------------------------------------------------------------+\n"
          ]
        }
      ],
      "source": [
        "import torch\n",
        "import torch.optim as optim\n",
        "\n",
        "\n",
        "cuda = torch.cuda.is_available()\n",
        "print(cuda)\n",
        "\n",
        "if cuda:\n",
        "  print(torch.cuda.get_device_name(0))\n",
        "  !nvidia-smi\n",
        "\n",
        "device = \"cuda\" if cuda else \"cpu\""
      ]
    },
    {
      "cell_type": "markdown",
      "metadata": {
        "id": "QQZ9L8tvX4PR"
      },
      "source": [
        "#### Main parameters\n",
        "\n",
        "Main (pre-)training parameters are defined here.\n",
        "It is easier to change some parameters in `.ipynb` file instead of `config.py` while using Google colaboratory."
      ]
    },
    {
      "cell_type": "code",
      "execution_count": 3,
      "metadata": {
        "id": "s-OGBQBSX4PR"
      },
      "outputs": [],
      "source": [
        "from src.models.parameters import CartoonGanParameters\n",
        "\n",
        "BATCH_SIZE = 8\n",
        "\n",
        "pretraining_parameters = CartoonGanParameters(\n",
        "    epochs=10,\n",
        "    gen_lr=0.0002,\n",
        "    disc_lr=0.0002,\n",
        "    batch_size=BATCH_SIZE,\n",
        "    conditional_lambda=10,\n",
        "    gen_beta1=0.5,\n",
        "    gen_beta2=0.999,\n",
        "    disc_beta1=0.5,\n",
        "    disc_beta2=0.999\n",
        ")\n",
        "\n",
        "training_parameters = CartoonGanParameters(\n",
        "    epochs=10,\n",
        "    gen_lr=0.0002,\n",
        "    disc_lr=0.0002,\n",
        "    batch_size=BATCH_SIZE,\n",
        "    conditional_lambda=10,\n",
        "    gen_beta1=0.5,\n",
        "    gen_beta2=0.999,\n",
        "    disc_beta1=0.5,\n",
        "    disc_beta2=0.999\n",
        ")\n"
      ]
    },
    {
      "cell_type": "code",
      "source": [
        "import logging\n",
        "\n",
        "logging.basicConfig(filename=\"log_file_test.log\",\n",
        "  filemode='a',\n",
        "  format='%(asctime)s,%(msecs)d %(name)s %(levelname)s %(message)s',\n",
        "  datefmt='%H:%M:%S',\n",
        "  level=logging.DEBUG\n",
        ")"
      ],
      "metadata": {
        "id": "as1AwQwBu-Fs"
      },
      "execution_count": 4,
      "outputs": []
    },
    {
      "cell_type": "markdown",
      "metadata": {
        "id": "HrO5AGFmX4PS"
      },
      "source": [
        "### Prepare data"
      ]
    },
    {
      "cell_type": "code",
      "source": [
        "from src.extraction.__main__ import *\n",
        "\n",
        "# Extract the data if needed\n",
        "\n",
        "\"\"\"create_all_frames_csv()\n",
        "create_all_images_csv()\n",
        "create_train_test_frames()\n",
        "create_train_test_images()\"\"\"\n",
        "\n"
      ],
      "metadata": {
        "colab": {
          "base_uri": "https://localhost:8080/",
          "height": 36
        },
        "id": "qsyi2lAjM7lh",
        "outputId": "c15e617a-4bd0-4b9a-dc21-a8a82aaf4635"
      },
      "execution_count": 5,
      "outputs": [
        {
          "output_type": "execute_result",
          "data": {
            "application/vnd.google.colaboratory.intrinsic+json": {
              "type": "string"
            },
            "text/plain": [
              "'create_all_frames_csv()\\ncreate_all_images_csv()\\ncreate_train_test_frames()\\ncreate_train_test_images()'"
            ]
          },
          "metadata": {},
          "execution_count": 5
        }
      ]
    },
    {
      "cell_type": "code",
      "execution_count": 6,
      "metadata": {
        "id": "otN41u_EX4PT"
      },
      "outputs": [],
      "source": [
        "from src.dataset.dataset_cartoon import CartoonDataset\n",
        "from src.dataset.dataset_pictures import PicturesDataset\n",
        "from src.preprocessing.preprocessor import Preprocessor\n",
        "\n",
        "from torch.utils.data import DataLoader\n",
        "\n",
        "preprocessor = Preprocessor(size=256)\n",
        "\n",
        "pictures_dataset = PicturesDataset(\n",
        "    train=True,\n",
        "    transform=preprocessor.picture_preprocessor(),\n",
        "    size=None # keep all data\n",
        ")\n",
        "\n",
        "cartoons_dataset = CartoonDataset(\n",
        "    train=True,\n",
        "    transform=preprocessor.cartoon_preprocessor(),\n",
        "    size=None # keep all data\n",
        ")\n",
        "\n",
        "train_pictures_loader = DataLoader(\n",
        "    dataset=pictures_dataset,\n",
        "    batch_size=BATCH_SIZE,\n",
        "    shuffle=True,\n",
        "    # drop last incomplete batch\n",
        "    drop_last=True,\n",
        "    num_workers=2\n",
        ")\n",
        "\n",
        "train_cartoons_loader = DataLoader(\n",
        "    dataset=cartoons_dataset,\n",
        "    batch_size=BATCH_SIZE,\n",
        "    shuffle=True,\n",
        "    drop_last=True,\n",
        "    num_workers=2\n",
        ")\n",
        "\n"
      ]
    },
    {
      "cell_type": "markdown",
      "metadata": {
        "id": "x_En1gP8X4PU"
      },
      "source": [
        "### Load model"
      ]
    },
    {
      "cell_type": "code",
      "execution_count": 7,
      "metadata": {
        "id": "G2TLP9prX4PV"
      },
      "outputs": [],
      "source": [
        "from src.models.cartoon_gan import CartoonGan\n",
        "\n",
        "cartoon_gan = CartoonGan(\n",
        "    nb_resnet_blocks=8,\n",
        "    nb_channels_picture=3,\n",
        "    nb_channels_cartoon=3,\n",
        "    nb_channels_1_h_l_gen=64,\n",
        "    nb_channels_1_h_l_disc=32\n",
        ")"
      ]
    },
    {
      "cell_type": "code",
      "source": [
        "pretrained_gen = os.path.join(\"weights\", \"pretrained\", \"pretrained_gen_1.pkl\")\n",
        "pretrained_disc = os.path.join(\"weights\", \"pretrained\", \"pretrained_disc_1.pkl\")\n",
        "\n",
        "cartoon_gan.load_model(pretrained_gen, pretrained_disc)"
      ],
      "metadata": {
        "id": "9543fqvMA_OB"
      },
      "execution_count": 8,
      "outputs": []
    },
    {
      "cell_type": "markdown",
      "source": [
        "### Pretrain model"
      ],
      "metadata": {
        "id": "hQipG2MNA_bF"
      }
    },
    {
      "cell_type": "code",
      "execution_count": null,
      "metadata": {
        "colab": {
          "base_uri": "https://localhost:8080/"
        },
        "id": "hd1d5OI3X4PX",
        "outputId": "4d4e9dd6-2a98-4a5b-a48f-a6ebc08a09ff"
      },
      "outputs": [
        {
          "output_type": "stream",
          "name": "stderr",
          "text": [
            "  9%|▉         | 376/4045 [15:25<2:09:51,  2.12s/it]"
          ]
        }
      ],
      "source": [
        "\n",
        "cartoon_gan.pretrain(\n",
        "    pictures_loader=train_pictures_loader,\n",
        "    parameters=pretraining_parameters\n",
        ")"
      ]
    },
    {
      "cell_type": "markdown",
      "metadata": {
        "id": "vXai33e8X4PX"
      },
      "source": [
        "### Training\n"
      ]
    }
  ],
  "metadata": {
    "interpreter": {
      "hash": "8df2d989f7395ed4cefddfbe9e8a345d0860b4821e72f8c21974341c5f0b7bda"
    },
    "kernelspec": {
      "display_name": "Python 3.8.12 64-bit ('deepLProject': conda)",
      "language": "python",
      "name": "python3"
    },
    "language_info": {
      "codemirror_mode": {
        "name": "ipython",
        "version": 3
      },
      "file_extension": ".py",
      "mimetype": "text/x-python",
      "name": "python",
      "nbconvert_exporter": "python",
      "pygments_lexer": "ipython3",
      "version": "3.8.12"
    },
    "orig_nbformat": 4,
    "colab": {
      "name": "train.ipynb",
      "provenance": [],
      "collapsed_sections": []
    },
    "accelerator": "GPU"
  },
  "nbformat": 4,
  "nbformat_minor": 0
}