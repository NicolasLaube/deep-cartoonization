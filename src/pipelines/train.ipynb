{
 "cells": [
  {
   "cell_type": "markdown",
   "metadata": {},
   "source": [
    "## Train Cartoon GAN\n",
    "\n",
    "Jupyter notebook version of the ```src.networks.train.py``` file.\n",
    "This file contains all cells to train the model from scratch."
   ]
  },
  {
   "cell_type": "markdown",
   "metadata": {},
   "source": [
    "#### Configure drive (only if needed)"
   ]
  },
  {
   "cell_type": "code",
   "execution_count": null,
   "metadata": {},
   "outputs": [],
   "source": [
    "\"\"\"\n",
    "from google.colab import drive\n",
    "import os\n",
    "drive.mount(\"/content/drive\")\n",
    "\n",
    "PROJECT_DIRECTORY = \"drive/MyDrive/DeepL\"\n",
    "os.chdir(PROJECT_DIRECTORY)\n",
    "\n",
    "!ls\n",
    "# !pip install -r requirements.txt\n",
    "\"\"\""
   ]
  },
  {
   "cell_type": "code",
   "execution_count": 1,
   "metadata": {},
   "outputs": [
    {
     "name": "stdout",
     "output_type": "stream",
     "text": [
      "False\n"
     ]
    }
   ],
   "source": [
    "import torch\n",
    "import torch.optim as optim\n",
    "\n",
    "\n",
    "cuda = torch.cuda.is_available()\n",
    "print(cuda)\n",
    "\n",
    "if cuda:\n",
    "  print(torch.cuda.get_device_name(0))\n",
    "  !nvidia-smi\n",
    "\n",
    "device = \"cuda\" if cuda else \"cpu\""
   ]
  },
  {
   "cell_type": "markdown",
   "metadata": {},
   "source": [
    "#### Main parameters\n",
    "\n",
    "It is easier to change some parameters in `.ipynb` file instead of `config.py` while using Google colaboratory."
   ]
  },
  {
   "cell_type": "code",
   "execution_count": 2,
   "metadata": {},
   "outputs": [],
   "source": [
    "RESULTS_SAVE_PATH = \"\"\n",
    "epochs_train = 50\n",
    "epochs_pretraining = 50\n",
    "lr_generator = 0.001\n",
    "lr_discriminator = 0.001\n"
   ]
  },
  {
   "cell_type": "markdown",
   "metadata": {},
   "source": [
    "#### Prepare data"
   ]
  },
  {
   "cell_type": "code",
   "execution_count": null,
   "metadata": {},
   "outputs": [],
   "source": [
    "from src.dataset.cartoon_loader import CartoonDatasetLoader\n",
    "from src.dataset.pictures_loader import PicturesDatasetLoader"
   ]
  },
  {
   "cell_type": "markdown",
   "metadata": {},
   "source": [
    "### Pretraining"
   ]
  }
 ],
 "metadata": {
  "interpreter": {
   "hash": "8df2d989f7395ed4cefddfbe9e8a345d0860b4821e72f8c21974341c5f0b7bda"
  },
  "kernelspec": {
   "display_name": "Python 3.8.12 64-bit ('deepLProject': conda)",
   "language": "python",
   "name": "python3"
  },
  "language_info": {
   "codemirror_mode": {
    "name": "ipython",
    "version": 3
   },
   "file_extension": ".py",
   "mimetype": "text/x-python",
   "name": "python",
   "nbconvert_exporter": "python",
   "pygments_lexer": "ipython3",
   "version": "3.8.12"
  },
  "orig_nbformat": 4
 },
 "nbformat": 4,
 "nbformat_minor": 2
}
