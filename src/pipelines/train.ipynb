{
 "cells": [
  {
   "cell_type": "markdown",
   "metadata": {},
   "source": [
    "## Train Cartoon GAN\n",
    "\n",
    "Jupyter notebook version of the ```src.networks.train.py``` file.\n",
    "This file contains all cells to train the model from scratch."
   ]
  },
  {
   "cell_type": "markdown",
   "metadata": {},
   "source": [
    "#### Configure drive (only if needed)"
   ]
  },
  {
   "cell_type": "code",
   "execution_count": null,
   "metadata": {},
   "outputs": [],
   "source": [
    "\"\"\"\n",
    "from google.colab import drive\n",
    "import os\n",
    "drive.mount(\"/content/drive\")\n",
    "\n",
    "PROJECT_DIRECTORY = \"drive/MyDrive/DeepL\"\n",
    "os.chdir(PROJECT_DIRECTORY)\n",
    "\n",
    "!ls\n",
    "# !pip install -r requirements.txt\n",
    "\"\"\""
   ]
  },
  {
   "cell_type": "code",
   "execution_count": 1,
   "metadata": {},
   "outputs": [
    {
     "name": "stdout",
     "output_type": "stream",
     "text": [
      "False\n"
     ]
    }
   ],
   "source": [
    "import torch\n",
    "import torch.optim as optim\n",
    "\n",
    "\n",
    "cuda = torch.cuda.is_available()\n",
    "print(cuda)\n",
    "\n",
    "if cuda:\n",
    "  print(torch.cuda.get_device_name(0))\n",
    "  !nvidia-smi\n",
    "\n",
    "device = \"cuda\" if cuda else \"cpu\""
   ]
  },
  {
   "cell_type": "markdown",
   "metadata": {},
   "source": [
    "#### Main parameters\n",
    "\n",
    "Main (pre-)training parameters are defined here.\n",
    "It is easier to change some parameters in `.ipynb` file instead of `config.py` while using Google colaboratory."
   ]
  },
  {
   "cell_type": "code",
   "execution_count": 2,
   "metadata": {},
   "outputs": [],
   "source": [
    "from src.models.parameters import CartoonGanParameters\n",
    "\n",
    "BATCH_SIZE = 16\n",
    "\n",
    "pretraining_parameters = CartoonGanParameters(\n",
    "    epochs=10,\n",
    "    gen_lr=1e-3,\n",
    "    disc_lr=1e-2,\n",
    "    nb_resnet_blocks=3,\n",
    "    batch_size=BATCH_SIZE,\n",
    "    conditionnal_lambda=2\n",
    ")\n",
    "\n",
    "training_parameters = CartoonGanParameters(\n",
    "    epochs=10,\n",
    "    gen_lr=1e-3,\n",
    "    disc_lr=1e-2,\n",
    "    nb_resnet_blocks=3,\n",
    "    batch_size=BATCH_SIZE,\n",
    "    conditionnal_lambda=2\n",
    ")\n"
   ]
  },
  {
   "cell_type": "markdown",
   "metadata": {},
   "source": [
    "### Prepare data"
   ]
  },
  {
   "cell_type": "code",
   "execution_count": null,
   "metadata": {},
   "outputs": [],
   "source": [
    "from src.dataset.cartoon_loader import CartoonDatasetLoader\n",
    "from src.dataset.pictures_loader import PicturesDatasetLoader\n",
    "from src.preprocessing.preprocessor import Preprocessor\n",
    "from src.dataset.pictures_loader import PicturesDatasetLoader\n",
    "from src.dataset.cartoon_loader import CartoonDatasetLoader\n",
    "\n",
    "from torch.utils.data import DataLoader\n",
    "\n",
    "preprocessor = Preprocessor(size=256)\n",
    "\n",
    "pictures_dataset = PicturesDatasetLoader(\n",
    "    train=True,\n",
    "    transform=preprocessor.picture_preprocessor\n",
    ")\n",
    "cartoons_dataset = CartoonDatasetLoader(\n",
    "    train=True,\n",
    "    transform=preprocessor.cartoon_preprocessor\n",
    ")\n",
    "\n",
    "train_pictures_loader = DataLoader(\n",
    "    dataset=pictures_dataset,\n",
    "    batch_size=BATCH_SIZE,\n",
    "    shuffle=True,\n",
    "    # drop last incomplete batch\n",
    "    drop_last=True,\n",
    "    num_workers=2\n",
    ")\n",
    "\n",
    "train_cartoons_loader = DataLoader(\n",
    "    dataset=cartoons_dataset,\n",
    "    batch_size=BATCH_SIZE,\n",
    "    shuffle=True,\n",
    "    drop_last=True,\n",
    "    num_workers=2\n",
    ")"
   ]
  },
  {
   "cell_type": "markdown",
   "metadata": {},
   "source": [
    "### Pretraining"
   ]
  },
  {
   "cell_type": "code",
   "execution_count": null,
   "metadata": {},
   "outputs": [],
   "source": [
    "from src.models.cartoon_gan import CartoonGan\n",
    "\n",
    "cartoon_gan = CartoonGan()"
   ]
  },
  {
   "cell_type": "code",
   "execution_count": null,
   "metadata": {},
   "outputs": [],
   "source": [
    "cartoon_gan.pretrain(\n",
    "    pictures_loader=train_pictures_loader,\n",
    "    parameters=pretraining_parameters\n",
    ")"
   ]
  },
  {
   "cell_type": "markdown",
   "metadata": {},
   "source": [
    "### Training\n"
   ]
  },
  {
   "cell_type": "markdown",
   "metadata": {},
   "source": [
    "cartoon_gan.train(\n",
    "\n",
    ")"
   ]
  }
 ],
 "metadata": {
  "interpreter": {
   "hash": "8df2d989f7395ed4cefddfbe9e8a345d0860b4821e72f8c21974341c5f0b7bda"
  },
  "kernelspec": {
   "display_name": "Python 3.8.12 64-bit ('deepLProject': conda)",
   "language": "python",
   "name": "python3"
  },
  "language_info": {
   "codemirror_mode": {
    "name": "ipython",
    "version": 3
   },
   "file_extension": ".py",
   "mimetype": "text/x-python",
   "name": "python",
   "nbconvert_exporter": "python",
   "pygments_lexer": "ipython3",
   "version": "3.8.12"
  },
  "orig_nbformat": 4
 },
 "nbformat": 4,
 "nbformat_minor": 2
}
