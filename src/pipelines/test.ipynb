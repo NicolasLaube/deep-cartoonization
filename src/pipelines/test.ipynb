{
 "cells": [
  {
   "cell_type": "code",
   "execution_count": null,
   "metadata": {},
   "outputs": [],
   "source": [
    "import os\n",
    "import numpy as np\n",
    "from tqdm import tqdm\n",
    "\n",
    "from src.models.cartoon_gan import CartoonGan\n",
    "from src import config\n",
    "from src.dataset.dataset_pictures import PicturesDataset\n",
    "from src.preprocessing.preprocessor import Preprocessor\n",
    "\n",
    "preprocessor = Preprocessor(size=256)\n",
    "\n",
    "pictures_dataset = PicturesDataset(\n",
    "    train=False,\n",
    "    transform=preprocessor.picture_preprocessor()\n",
    ")\n",
    "\n",
    "cartoon_gan = CartoonGan(\n",
    "    nb_channels_1_h_l_disc=32,\n",
    "    nb_channels_1_h_l_gen=64,\n",
    "    nb_channels_cartoon=3,\n",
    "    nb_channels_picture=3,\n",
    "    nb_resnet_blocks=8,\n",
    ")\n",
    "\n",
    "cartoon_gan.load_model(\n",
    "    generator_path=os.path.join(config.WEIGHTS_FOLDER, \"\"),\n",
    "    discriminator_path=os.path.join(config.WEIGHTS_FOLDER, \"\")\n",
    ")\n"
   ]
  },
  {
   "cell_type": "markdown",
   "metadata": {},
   "source": [
    "### Save images"
   ]
  },
  {
   "cell_type": "code",
   "execution_count": null,
   "metadata": {},
   "outputs": [],
   "source": [
    "\n",
    "for i, picture_obj in tqdm(enumerate(pictures_dataset)):\n",
    "    picture_path, picture = picture_obj\n",
    "    cartoon = cartoon_gan.cartoonize([picture])\n",
    "    np.save(f\"pretrained_{picture_path}.npy\", cartoon)\n"
   ]
  }
 ],
 "metadata": {
  "language_info": {
   "name": "python"
  },
  "orig_nbformat": 4
 },
 "nbformat": 4,
 "nbformat_minor": 2
}
