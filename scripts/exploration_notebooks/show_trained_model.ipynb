{
 "cells": [
  {
   "cell_type": "markdown",
   "metadata": {},
   "source": [
    "# Show results of a specific model"
   ]
  },
  {
   "cell_type": "code",
   "execution_count": null,
   "metadata": {},
   "outputs": [],
   "source": [
    "MODEL_ID = \"2022_03_27-20_51_13\"\n",
    "WIDTH = 8\n",
    "HEIGHT = 8"
   ]
  },
  {
   "cell_type": "code",
   "execution_count": null,
   "metadata": {},
   "outputs": [],
   "source": [
    "%cd ../.."
   ]
  },
  {
   "cell_type": "code",
   "execution_count": null,
   "metadata": {},
   "outputs": [],
   "source": [
    "import os\n",
    "import pandas as pd\n",
    "\n",
    "from scripts import config\n",
    "from scripts.tools.get_name import get_model_img_name\n",
    "import matplotlib.pyplot as plt"
   ]
  },
  {
   "cell_type": "code",
   "execution_count": null,
   "metadata": {},
   "outputs": [],
   "source": [
    "def show_results(model_id):\n",
    "    df_runs = pd.read_csv(config.REMOTE_PARAMS_PATH, index_col=0)\n",
    "    df_result = df_runs.loc[df_runs['run_id'] == model_id]\n",
    "    run = df_result.iloc[0]\n",
    "\n",
    "    pictures_path = os.path.join(config.LOGS_FOLDER, run[\"run_id\"], \"pictures\")\n",
    "    epoch_pictures_path = os.path.join(\n",
    "        pictures_path, f\"epoch_{run['epochs_trained_nb']}\"\n",
    "    )\n",
    "    print(\n",
    "        f\"\"\"Model {run['run_id']} with epoch {run['epochs_trained_nb']}:\n",
    "    - Architecture: {run['cartoon_gan_architecture']}\n",
    "    - Pictures size: {run['picture_dataset_new_size']}\n",
    "    - Learning rate: {run['training_gen_lr']}\n",
    "    - Crop mode: {run['picture_dataset_crop_mode']}\n",
    "    - Init generator path: {run['init_gen_path']}\n",
    "\n",
    "    With losses:\n",
    "    - Generator loss: {run['train_gen_loss']}\n",
    "    - Discriminator loss: {run['train_disc_loss']}\"\"\"\n",
    "    )\n",
    "\n",
    "    columns = 2\n",
    "    nb_pictures = len(os.listdir(epoch_pictures_path))//2\n",
    "    fig = plt.figure(figsize=(WIDTH*columns, HEIGHT*nb_pictures))\n",
    "    for i in range(nb_pictures):\n",
    "        picture = plt.imread(os.path.join(epoch_pictures_path, get_model_img_name(i, \"picture\")))\n",
    "        cartoon = plt.imread(os.path.join(epoch_pictures_path, get_model_img_name(i, \"cartoon\")))\n",
    "        ax = fig.add_subplot(nb_pictures, columns, 2*i+1)\n",
    "        ax.imshow(picture)\n",
    "        ax.axis(\"off\")\n",
    "        ax = fig.add_subplot(nb_pictures, columns, 2*i+2)\n",
    "        ax.imshow(cartoon)\n",
    "        ax.axis(\"off\")"
   ]
  },
  {
   "cell_type": "code",
   "execution_count": null,
   "metadata": {},
   "outputs": [],
   "source": [
    "show_results(MODEL_ID)"
   ]
  }
 ],
 "metadata": {
  "interpreter": {
   "hash": "95d434c15d7c1f28b268fe54cfe54716ddab65e34521285ad9829a57e3094f9f"
  },
  "kernelspec": {
   "display_name": "Python 3.9.9 ('deepl')",
   "language": "python",
   "name": "python3"
  },
  "language_info": {
   "codemirror_mode": {
    "name": "ipython",
    "version": 3
   },
   "file_extension": ".py",
   "mimetype": "text/x-python",
   "name": "python",
   "nbconvert_exporter": "python",
   "pygments_lexer": "ipython3",
   "version": "3.9.9"
  },
  "orig_nbformat": 4
 },
 "nbformat": 4,
 "nbformat_minor": 2
}
