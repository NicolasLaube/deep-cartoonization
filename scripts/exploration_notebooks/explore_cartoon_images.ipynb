{
 "cells": [
  {
   "cell_type": "markdown",
   "metadata": {},
   "source": [
    "# Explore cartoon images"
   ]
  },
  {
   "cell_type": "code",
   "execution_count": null,
   "metadata": {},
   "outputs": [],
   "source": [
    "IM_SIZE = (15,15)\n",
    "\n",
    "HIST_SIZE = (12, 3)\n",
    "BUCKET_NB = 8"
   ]
  },
  {
   "cell_type": "code",
   "execution_count": null,
   "metadata": {},
   "outputs": [],
   "source": [
    "%cd ../.."
   ]
  },
  {
   "cell_type": "code",
   "execution_count": null,
   "metadata": {},
   "outputs": [],
   "source": [
    "import os\n",
    "import random\n",
    "import numpy as np\n",
    "from PIL import Image\n",
    "import matplotlib.pyplot as plt\n",
    "from tqdm import tqdm\n",
    "import colorsys\n",
    "import pickle\n",
    "from collections import Counter\n",
    "from typing import List, Dict, Tuple\n",
    "\n",
    "from scripts import config"
   ]
  },
  {
   "cell_type": "code",
   "execution_count": null,
   "metadata": {},
   "outputs": [],
   "source": [
    "def show_images(image_paths: List[str], nb_images: int = 5):\n",
    "    random.shuffle(image_paths)\n",
    "    for i in range(nb_images):\n",
    "        image = plt.imread(image_paths[i])\n",
    "        plt.figure(figsize=IM_SIZE)\n",
    "        plt.imshow(image)\n",
    "        plt.axis(\"off\")\n",
    "        plt.show()"
   ]
  },
  {
   "cell_type": "code",
   "execution_count": null,
   "metadata": {},
   "outputs": [],
   "source": [
    "def reduce_color_space(rgb: List[int]):\n",
    "    bucket_size = 256//BUCKET_NB\n",
    "    r=rgb[0]//bucket_size*bucket_size + bucket_size//2\n",
    "    g=rgb[1]//bucket_size*bucket_size + bucket_size//2\n",
    "    b=rgb[2]//bucket_size*bucket_size + bucket_size//2\n",
    "    return (r,g,b)\n",
    "\n",
    "def hexencode(rgb):\n",
    "    r=int(rgb[0])\n",
    "    g=int(rgb[1])\n",
    "    b=int(rgb[2])\n",
    "    return '#%02x%02x%02x' % (r,g,b)\n",
    "\n",
    "def plot_color_histogram(all_colors: Dict[Tuple[int, int, int], int], nb_colors: int = -1):\n",
    "    colors_to_show = sorted([(nb, color) for color, nb in all_colors.items()], key=lambda x : x[0], reverse=True)\n",
    "    if nb_colors > 0:\n",
    "        colors_to_show = colors_to_show[:nb_colors]\n",
    "    colors_to_show = sorted(colors_to_show, key=lambda x : colorsys.rgb_to_hsv(*x[1]))\n",
    "\n",
    "    plt.figure(figsize=HIST_SIZE)\n",
    "    for idx, c in enumerate(colors_to_show):\n",
    "        plt.bar(idx, c[0], color=hexencode(c[1]), edgecolor=hexencode(c[1]))\n",
    "    ax = plt.gca()\n",
    "    ax.get_xaxis().set_visible(False)\n",
    "    ax.get_yaxis().set_visible(False)\n",
    "\n",
    "def compute_plot_color_histogram(image_paths: List[str], frac: int = 1, nb_colors: int = -1):\n",
    "    image_paths = random.sample(image_paths, int(frac*len(image_paths)))\n",
    "    all_colors_counter = Counter()\n",
    "\n",
    "    for image_path in tqdm(image_paths):\n",
    "        im = Image.open(image_path)  \n",
    "        w, h = im.size  \n",
    "        colors = im.getcolors(w*h)\n",
    "        all_colors_counter += Counter(dict((reduce_color_space(c), n) for n, c in colors))\n",
    "\n",
    "    all_colors = dict(all_colors_counter)\n",
    "    \n",
    "    plot_color_histogram(all_colors_counter, nb_colors)\n",
    "\n",
    "    return all_colors"
   ]
  },
  {
   "cell_type": "code",
   "execution_count": null,
   "metadata": {},
   "outputs": [],
   "source": [
    "def hsv2rgb(h,s,v):\n",
    "    return tuple(round(i * 255) for i in colorsys.hsv_to_rgb(h,s,v))\n",
    "\n",
    "def plot_hsv_histogram(all_colors: Dict[str, Dict[float, int]]):\n",
    "\n",
    "    def get_rgb_color(hsv: int, mode: str):\n",
    "        if mode == 'hue':\n",
    "            c = (hsv/256, 1, 1)\n",
    "        if mode == 'saturation':\n",
    "            c = (0, hsv/256, 0.95)\n",
    "        if mode == 'value':\n",
    "            c = (0, 0, max(0, hsv/256-0.05))\n",
    "        return tuple(round(i * 255) for i in colorsys.hsv_to_rgb(*c))\n",
    "\n",
    "\n",
    "    for mode, all_colors_from_mode in all_colors.items():\n",
    "        colors_to_show = [(nb, get_rgb_color(color, mode)) for color, nb in sorted(all_colors_from_mode.items(), key=lambda x : x[0])]\n",
    "        plt.figure(figsize=HIST_SIZE)\n",
    "        for idx, c in enumerate(colors_to_show):\n",
    "            plt.bar(idx, c[0], color=hexencode(c[1]), edgecolor=hexencode(c[1]))\n",
    "        ax = plt.gca()\n",
    "        ax.get_xaxis().set_visible(False)\n",
    "        ax.get_yaxis().set_visible(False)\n",
    "        plt.title(f\"Histogram of {mode}\", fontsize=18)\n",
    "\n",
    "def compute_plot_hsv_histogram(image_paths: List[str], frac: int = 1):\n",
    "\n",
    "    modes = [\"hue\", \"saturation\", \"value\"]\n",
    "\n",
    "    image_paths = random.sample(image_paths, int(frac*len(image_paths)))\n",
    "    all_colors_counter = {mode: Counter() for mode in modes}\n",
    "\n",
    "    for image_path in tqdm(image_paths):\n",
    "        im = Image.open(image_path).convert('HSV')\n",
    "        for i in range(3):\n",
    "            extracted = np.asarray(im)[:,:,i]\n",
    "            unique, counts = np.unique(extracted, return_counts=True)\n",
    "            all_colors_counter[modes[i]] += Counter(dict(zip(unique, counts)))\n",
    "\n",
    "    all_colors = {k: dict(v) for k, v in all_colors_counter.items()}\n",
    "\n",
    "    plot_hsv_histogram(all_colors)\n",
    "\n",
    "    return all_colors  "
   ]
  },
  {
   "cell_type": "markdown",
   "metadata": {},
   "source": [
    "## Movie by movie"
   ]
  },
  {
   "cell_type": "code",
   "execution_count": null,
   "metadata": {},
   "outputs": [],
   "source": [
    "def show_images_from_movie(movie: str, nb_images: int = 5):\n",
    "    path = os.path.join(config.CARTOONS_FOLDER, movie)\n",
    "    all_images = [os.path.join(path, name) for name in os.listdir(path)]\n",
    "    return show_images(all_images, nb_images)"
   ]
  },
  {
   "cell_type": "code",
   "execution_count": null,
   "metadata": {},
   "outputs": [],
   "source": [
    "MOVIE = \"Luca\"\n",
    "NB_IMAGES = 20\n",
    "\n",
    "show_images_from_movie(MOVIE, NB_IMAGES)"
   ]
  },
  {
   "cell_type": "code",
   "execution_count": null,
   "metadata": {},
   "outputs": [],
   "source": [
    "def get_color_histogram_one_movie(movie: str, frac: float = 1, nb_colors: int = -1):\n",
    "    path = os.path.join(config.CARTOONS_FOLDER, movie)\n",
    "    all_images = [os.path.join(path, name) for name in os.listdir(path)]\n",
    "    return compute_plot_color_histogram(all_images, frac, nb_colors)"
   ]
  },
  {
   "cell_type": "code",
   "execution_count": null,
   "metadata": {},
   "outputs": [],
   "source": [
    "MOVIE = \"BABYBOSS\"\n",
    "FRAC = 0.2\n",
    "NB_COLORS = -1\n",
    "\n",
    "get_color_histogram_one_movie(MOVIE, FRAC, NB_COLORS)\n",
    "pass"
   ]
  },
  {
   "cell_type": "code",
   "execution_count": null,
   "metadata": {},
   "outputs": [],
   "source": [
    "def get_hsv_histograms_one_movie(movie: str, frac: float = 1):\n",
    "    path = os.path.join(config.CARTOONS_FOLDER, movie)\n",
    "    all_images = [os.path.join(path, name) for name in os.listdir(path)]\n",
    "    return compute_plot_hsv_histogram(all_images, frac)"
   ]
  },
  {
   "cell_type": "code",
   "execution_count": null,
   "metadata": {},
   "outputs": [],
   "source": [
    "MOVIE = \"BABYBOSS\"\n",
    "FRAC = 0.01\n",
    "\n",
    "get_hsv_histograms_one_movie(MOVIE, FRAC)\n",
    "pass"
   ]
  },
  {
   "cell_type": "markdown",
   "metadata": {},
   "source": [
    "## Histograms etc. for each movies"
   ]
  },
  {
   "cell_type": "code",
   "execution_count": null,
   "metadata": {},
   "outputs": [],
   "source": [
    "NB_IMAGES = 50\n",
    "\n",
    "all_images = []\n",
    "for movie in config.MOVIES:\n",
    "    movie_name = movie.value\n",
    "    path = os.path.join(config.CARTOONS_FOLDER, movie_name)\n",
    "    all_images.extend([os.path.join(path, name) for name in os.listdir(path)])\n",
    "\n",
    "show_images(all_images, nb_images=NB_IMAGES)"
   ]
  },
  {
   "cell_type": "code",
   "execution_count": null,
   "metadata": {},
   "outputs": [],
   "source": [
    "FRAC = 1\n",
    "NB_COLORS = -1\n",
    "\n",
    "with open(config.HISTOGRAMS_PATH, \"rb\") as f:\n",
    "    all_histograms = pickle.load(f)\n",
    "\n",
    "for movie in config.MOVIES:\n",
    "    movie_name = movie.value\n",
    "    print(f\"\\n\\nProcessing {movie_name}\")\n",
    "    if movie_name not in all_histograms:\n",
    "        all_histograms[movie_name] = {}\n",
    "\n",
    "    if \"color\" not in all_histograms[movie_name]:\n",
    "        all_histograms[movie_name][\"color\"] = get_color_histogram_one_movie(movie_name, FRAC, NB_COLORS)\n",
    "    else:\n",
    "        plot_color_histogram(all_histograms[movie_name][\"color\"], NB_COLORS)\n",
    "    with open(config.HISTOGRAMS_PATH, \"wb\") as f:\n",
    "        pickle.dump(all_histograms, f)\n",
    "\n",
    "    if \"hsv\" not in all_histograms[movie_name]:\n",
    "        all_histograms[movie_name][\"hsv\"] = get_hsv_histograms_one_movie(movie_name, FRAC)\n",
    "    else:\n",
    "        plot_hsv_histogram(all_histograms[movie_name][\"hsv\"])\n",
    "    with open(config.HISTOGRAMS_PATH, \"wb\") as f:\n",
    "        pickle.dump(all_histograms, f)\n"
   ]
  },
  {
   "cell_type": "code",
   "execution_count": null,
   "metadata": {},
   "outputs": [],
   "source": [
    "NB_COLORS = -1\n",
    "\n",
    "with open(config.HISTOGRAMS_PATH, \"rb\") as f:\n",
    "    all_histograms = pickle.load(f)\n",
    "\n",
    "colors_all_movies = dict(sum([Counter(all_histograms[movie.name][\"color\"]) for movie in config.MOVIES], Counter()))\n",
    "plot_color_histogram(colors_all_movies, NB_COLORS)\n",
    "\n",
    "h_all_movies = dict(sum([Counter(all_histograms[movie.name][\"hsv\"][\"hue\"]) for movie in config.MOVIES], Counter()))\n",
    "s_all_movies = dict(sum([Counter(all_histograms[movie.name][\"hsv\"][\"saturation\"]) for movie in config.MOVIES], Counter()))\n",
    "v_all_movies = dict(sum([Counter(all_histograms[movie.name][\"hsv\"][\"value\"]) for movie in config.MOVIES], Counter()))\n",
    "plot_hsv_histogram({\"hue\": h_all_movies, \"saturation\": s_all_movies, \"value\": v_all_movies})"
   ]
  },
  {
   "cell_type": "markdown",
   "metadata": {},
   "source": [
    "## With images"
   ]
  },
  {
   "cell_type": "code",
   "execution_count": null,
   "metadata": {},
   "outputs": [],
   "source": [
    "NB_IMAGES = 5\n",
    "\n",
    "path = config.PICTURES_FOLDER\n",
    "all_images = [os.path.join(path, name) for name in os.listdir(path)]\n",
    "show_images(all_images, NB_IMAGES)"
   ]
  },
  {
   "cell_type": "code",
   "execution_count": null,
   "metadata": {},
   "outputs": [],
   "source": [
    "FRAC = 1\n",
    "NB_COLORS = -1\n",
    "\n",
    "path = config.PICTURES_FOLDER\n",
    "all_images = [os.path.join(path, name) for name in os.listdir(path)]\n",
    "\n",
    "with open(config.HISTOGRAMS_PATH, \"rb\") as f:\n",
    "    all_histograms = pickle.load(f)\n",
    "\n",
    "if not \"pictures\" in all_histograms:\n",
    "    all_histograms[\"pictures\"] = {}\n",
    "\n",
    "if not \"color\" in all_histograms[\"pictures\"]:\n",
    "    hist_colors = compute_plot_color_histogram(all_images, FRAC, NB_COLORS)\n",
    "    all_histograms[\"pictures\"][\"color\"] = hist_colors\n",
    "else:\n",
    "    plot_color_histogram(all_histograms[\"pictures\"][\"color\"], NB_COLORS)\n",
    "\n",
    "if not \"hsv\" in all_histograms[\"pictures\"]:\n",
    "    hist_hsv = compute_plot_hsv_histogram(all_images, FRAC)\n",
    "    all_histograms[\"pictures\"][\"hsv\"] = hist_hsv\n",
    "else:\n",
    "    plot_hsv_histogram(all_histograms[\"pictures\"][\"hsv\"])\n",
    "\n",
    "with open(config.HISTOGRAMS_PATH, \"wb\") as f:\n",
    "    pickle.dump(all_histograms, f)"
   ]
  }
 ],
 "metadata": {
  "interpreter": {
   "hash": "95d434c15d7c1f28b268fe54cfe54716ddab65e34521285ad9829a57e3094f9f"
  },
  "kernelspec": {
   "display_name": "Python 3.9.9 ('deepl')",
   "language": "python",
   "name": "python3"
  },
  "language_info": {
   "codemirror_mode": {
    "name": "ipython",
    "version": 3
   },
   "file_extension": ".py",
   "mimetype": "text/x-python",
   "name": "python",
   "nbconvert_exporter": "python",
   "pygments_lexer": "ipython3",
   "version": "3.9.9"
  },
  "orig_nbformat": 4
 },
 "nbformat": 4,
 "nbformat_minor": 2
}
